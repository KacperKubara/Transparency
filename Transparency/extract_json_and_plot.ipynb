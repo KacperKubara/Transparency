{
 "metadata": {
  "language_info": {
   "codemirror_mode": {
    "name": "ipython",
    "version": 3
   },
   "file_extension": ".py",
   "mimetype": "text/x-python",
   "name": "python",
   "nbconvert_exporter": "python",
   "pygments_lexer": "ipython3",
   "version": "3.7.9-final"
  },
  "orig_nbformat": 2,
  "kernelspec": {
   "name": "python3",
   "display_name": "Python 3.7.9 64-bit ('maka_paper': conda)",
   "metadata": {
    "interpreter": {
     "hash": "381da01d8d407f55c1b3bf1526de35b39c07abdeb9de93be492d8665fa858b8a"
    }
   }
  }
 },
 "nbformat": 4,
 "nbformat_minor": 2,
 "cells": [
  {
   "cell_type": "code",
   "execution_count": 1,
   "metadata": {},
   "outputs": [],
   "source": [
    "import os\n",
    "import json\n",
    "data_folder = \"./experiments\""
   ]
  },
  {
   "cell_type": "code",
   "execution_count": 2,
   "metadata": {
    "tags": []
   },
   "outputs": [],
   "source": [
    "dir = next(os.walk(data_folder))\n",
    "results_dict = {}\n",
    "\n",
    "for dir_child in dir[1]:\n",
    "    results_dict[dir_child] = {}\n",
    "    path = dir[0] + \"/\" + dir_child\n",
    "    dir_1 = next(os.walk(path))\n",
    "\n",
    "    for dir_child_1 in dir_1[1]:\n",
    "        results_dict[dir_child] = {}\n",
    "        path_1 = dir_1[0] + \"/\" + dir_child_1\n",
    "        dir_2 = next(os.walk(path_1))\n",
    "\n",
    "        for dir_child_2 in dir_2[1]:\n",
    "            results_dict[dir_child][dir_child_2] = {}\n",
    "            path_2 = dir_2[0] + \"/\" + dir_child_2\n",
    "            dir_3 = next(os.walk(path_2))     \n",
    "\n",
    "            for dir_child_3 in dir_3[1]:\n",
    "                path_3 = dir_3[0] + \"/\" + dir_child_3\n",
    "                with open(path_3 + \"/evaluate.json\") as f:\n",
    "                    temp_dict = json.load(f)\n",
    "\n",
    "                for score_name, score in temp_dict.items():\n",
    "                    if score_name not in results_dict[dir_child][dir_child_2]:\n",
    "                        results_dict[dir_child][dir_child_2][score_name] = [score]\n",
    "                    else:\n",
    "                        results_dict[dir_child][dir_child_2][score_name].append(score)\n",
    "\n",
    "with open(\"full_results.json\", 'w') as f:\n",
    "    json.dump(results_dict, f)\n"
   ]
  },
  {
   "cell_type": "code",
   "execution_count": 9,
   "metadata": {},
   "outputs": [],
   "source": [
    "import statistics\n",
    "with open(\"full_results.json\", 'r') as f:\n",
    "    results_dict = json.load(f)\n",
    "\n",
    "results_new = {}\n",
    "for key1, val1 in results_dict.items():\n",
    "    results_new[key1] = {}\n",
    "    for key2, val2 in val1.items():\n",
    "        results_new[key1][key2] = {}\n",
    "        for key3, val3 in val2.items():\n",
    "            key_mean = key3 + \"_mean\"\n",
    "            key_std = key3 + \"_std\"\n",
    "            results_new[key1][key2][key_mean] = round(statistics.mean([float(el) for el in val3]),4)\n",
    "            results_new[key1][key2][key_std] = round(statistics.stdev([float(el) for el in val3]),4)\n",
    "\n",
    "with open(\"full_results_new.json\", 'w') as f:\n",
    "    json.dump(results_new, f)      "
   ]
  },
  {
   "cell_type": "code",
   "execution_count": null,
   "metadata": {},
   "outputs": [],
   "source": []
  }
 ]
}