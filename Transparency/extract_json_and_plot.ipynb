{
 "metadata": {
  "language_info": {
   "codemirror_mode": {
    "name": "ipython",
    "version": 3
   },
   "file_extension": ".py",
   "mimetype": "text/x-python",
   "name": "python",
   "nbconvert_exporter": "python",
   "pygments_lexer": "ipython3",
   "version": "3.7.9-final"
  },
  "orig_nbformat": 2,
  "kernelspec": {
   "name": "python3",
   "display_name": "Python 3.7.9 64-bit ('maka_paper': conda)",
   "metadata": {
    "interpreter": {
     "hash": "381da01d8d407f55c1b3bf1526de35b39c07abdeb9de93be492d8665fa858b8a"
    }
   }
  }
 },
 "nbformat": 4,
 "nbformat_minor": 2,
 "cells": [
  {
   "cell_type": "code",
   "execution_count": 2,
   "metadata": {},
   "outputs": [],
   "source": [
    "import os\n",
    "import json\n",
    "data_folder = \"./experiments\""
   ]
  },
  {
   "cell_type": "code",
   "execution_count": 3,
   "metadata": {
    "tags": []
   },
   "outputs": [],
   "source": [
    "dir = next(os.walk(data_folder))\n",
    "results_dict = {}\n",
    "\n",
    "for dir_child in dir[1]:\n",
    "    results_dict[dir_child] = {}\n",
    "    path = dir[0] + \"/\" + dir_child\n",
    "    dir_1 = next(os.walk(path))\n",
    "\n",
    "    for dir_child_1 in dir_1[1]:\n",
    "        results_dict[dir_child] = {}\n",
    "        path_1 = dir_1[0] + \"/\" + dir_child_1\n",
    "        dir_2 = next(os.walk(path_1))\n",
    "\n",
    "        for dir_child_2 in dir_2[1]:\n",
    "            results_dict[dir_child][dir_child_2] = {}\n",
    "            path_2 = dir_2[0] + \"/\" + dir_child_2\n",
    "            dir_3 = next(os.walk(path_2))     \n",
    "\n",
    "            for dir_child_3 in dir_3[1]:\n",
    "                path_3 = dir_3[0] + \"/\" + dir_child_3\n",
    "                with open(path_3 + \"/evaluate.json\") as f:\n",
    "                    temp_dict = json.load(f)\n",
    "\n",
    "                for score_name, score in temp_dict.items():\n",
    "                    if score_name not in results_dict[dir_child][dir_child_2]:\n",
    "                        results_dict[dir_child][dir_child_2][score_name] = [score]\n",
    "                    else:\n",
    "                        results_dict[dir_child][dir_child_2][score_name].append(score)\n",
    "\n",
    "with open(\"full_results.json\", 'w') as f:\n",
    "    json.dump(results_dict, f)\n"
   ]
  },
  {
   "cell_type": "code",
   "execution_count": null,
   "metadata": {},
   "outputs": [],
   "source": []
  }
 ]
}