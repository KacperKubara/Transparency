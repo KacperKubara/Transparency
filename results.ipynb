{
  "nbformat": 4,
  "nbformat_minor": 0,
  "metadata": {
    "colab": {
      "name": "results.ipynb",
      "provenance": [],
      "collapsed_sections": []
    },
    "kernelspec": {
      "name": "python3",
      "display_name": "Python 3"
    }
  },
  "cells": [
    {
      "cell_type": "markdown",
      "metadata": {
        "id": "vOYRRA9R66Ns"
      },
      "source": [
        "# Setting up the environment \r\n",
        "\r\n",
        "Please refer to the installation procedure described in the README. \r\n",
        "We recommend using the Docker file for setting up the environment as it's the least troublesome.\r\n"
      ]
    },
    {
      "cell_type": "markdown",
      "metadata": {
        "id": "dunUdrn168GG"
      },
      "source": [
        "#Setting up the datasets for the job\r\n",
        "For each dataset you want to run experiments on, you need to run {dataset_name}.py script in the Transparencyp/reprocess. More information in README."
      ]
    },
    {
      "cell_type": "markdown",
      "metadata": {
        "id": "SeqCF2GO682s"
      },
      "source": [
        "# Running the experiments\r\n",
        "Specific instructions on how to run a single command can be found in the readme file. If you want to run the whole experiments please refer to the section below.\r\n",
        "\r\n",
        "For each experiment we've listed the bash scripts that were used to run them. The code is quite complex and it's not possible to transfer those commmands easily to jupyter notebook.\r\n",
        "\r\n",
        "## For reproducing the authors results run:\r\n",
        "* first_run_qa.sh \r\n",
        "* first_run.sh\r\n",
        "* run_all_datasets_qa.sh\r\n",
        "* run_all_datasets.sh\r\n",
        "* run_single_dataset_bc.sh \r\n",
        "* run_single_dataset_qa.sh \r\n",
        "\r\n",
        "\r\n",
        "### Running the experiments for multinigual data:\r\n",
        "* run_all_non_english.sh\r\n",
        "\r\n",
        "\r\n",
        "## For performing the experiments on Transformer:\r\n",
        "### All the experiments with settings from our paper:\r\n",
        "``` python transformer_results.py --num_runs  5 ```\r\n",
        "or with slurm systme run run_transformer_results.sh\r\n",
        "\r\n",
        "### Experiments per model type and dataset:\r\n",
        "\r\n",
        "```\r\n",
        "model_t=\"diversity_weight\"\r\n",
        "dataset_n=\"tweet\"\r\n",
        "python ExperimentsTransformer.py --model_type ${model_t} --dataset_name ${dataset_n} \r\n",
        "```"
      ]
    }
  ]
}