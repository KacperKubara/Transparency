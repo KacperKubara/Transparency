{
 "metadata": {
  "language_info": {
   "codemirror_mode": {
    "name": "ipython",
    "version": 3
   },
   "file_extension": ".py",
   "mimetype": "text/x-python",
   "name": "python",
   "nbconvert_exporter": "python",
   "pygments_lexer": "ipython3",
   "version": "3.7.9-final"
  },
  "orig_nbformat": 2,
  "kernelspec": {
   "name": "python3",
   "display_name": "Python 3",
   "language": "python"
  }
 },
 "nbformat": 4,
 "nbformat_minor": 2,
 "cells": [
  {
   "source": [
    "# Setting up the code\n",
    "For installing the package please refer to the Readme file. Please note that the requirement is to have Linux or MAC OS. If you want to run the package  on Windows, you need to additonally install WSL2"
   ],
   "cell_type": "markdown",
   "metadata": {}
  },
  {
   "source": [
    "# Setting up the datasets for the job\n",
    "For each dataset, you need to refer to each dataset folder in the preprocess/ directory. More information in Readme"
   ],
   "cell_type": "markdown",
   "metadata": {}
  },
  {
   "source": [
    "#  Running the experiments\n",
    "For each experiment we've listed the jobs and bash scripts that were used to run them. The code is quite complex and it's not possible to transfer those commmands easily to jupyter notebook.\n",
    "\n",
    "* first_run_qa.job - \n",
    "* first_run.job - \n",
    "* run_all_datasets_qa.job - \n",
    "* run_all_datasets.job - \n",
    "* run_all_non_english.sh -\n",
    "* run_single_dataset_bc.job - \n",
    "* run_single_dataset_qa.job - \n",
    "* run_transformer_data_qa.job -  "
   ],
   "cell_type": "markdown",
   "metadata": {}
  }
 ]
}